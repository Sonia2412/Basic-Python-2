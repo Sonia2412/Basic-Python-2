{
 "cells": [
  {
   "cell_type": "code",
   "execution_count": 1,
   "metadata": {},
   "outputs": [
    {
     "name": "stdout",
     "output_type": "stream",
     "text": [
      "Sonia\n"
     ]
    }
   ],
   "source": [
    "print(\"Sonia\")"
   ]
  },
  {
   "cell_type": "code",
   "execution_count": 2,
   "metadata": {},
   "outputs": [
    {
     "name": "stdout",
     "output_type": "stream",
     "text": [
      "10\n"
     ]
    }
   ],
   "source": [
    "price=10\n",
    "print(price)"
   ]
  },
  {
   "cell_type": "code",
   "execution_count": 3,
   "metadata": {},
   "outputs": [
    {
     "name": "stdout",
     "output_type": "stream",
     "text": [
      "20\n"
     ]
    }
   ],
   "source": [
    "price=10\n",
    "price=20\n",
    "print(price)"
   ]
  },
  {
   "cell_type": "code",
   "execution_count": 15,
   "metadata": {},
   "outputs": [
    {
     "name": "stdin",
     "output_type": "stream",
     "text": [
      "What is your name?  Avi\n",
      "What is your favourite colour?  Blue\n"
     ]
    },
    {
     "name": "stdout",
     "output_type": "stream",
     "text": [
      "Avi likes Blue\n"
     ]
    }
   ],
   "source": [
    "# Exercise asking name and favourite colour\n",
    "name= input('What is your name? ')\n",
    "fvcolour= input('What is your favourite colour? ')\n",
    "print(name + ' likes ' +  fvcolour)\n"
   ]
  },
  {
   "cell_type": "code",
   "execution_count": 17,
   "metadata": {
    "jupyter": {
     "source_hidden": true
    }
   },
   "outputs": [
    {
     "name": "stdin",
     "output_type": "stream",
     "text": [
      "What is your weight?  60\n"
     ]
    },
    {
     "name": "stdout",
     "output_type": "stream",
     "text": [
      "60\n"
     ]
    }
   ],
   "source": [
    "# exercise to ask a user about their weight and print it.\n",
    "weight= int(input('What is your weight? '))\n",
    "print(weight)"
   ]
  },
  {
   "cell_type": "code",
   "execution_count": 19,
   "metadata": {},
   "outputs": [
    {
     "name": "stdin",
     "output_type": "stream",
     "text": [
      "Weight (lbs):  53\n"
     ]
    },
    {
     "name": "stdout",
     "output_type": "stream",
     "text": [
      "23.85\n"
     ]
    }
   ],
   "source": [
    "# convert weight from lbs to Kg\n",
    "weight_lbs= input('Weight (lbs): ')\n",
    "weight_kgs= int(weight_lbs) * 0.45\n",
    "print(weight_kgs)\n"
   ]
  },
  {
   "cell_type": "code",
   "execution_count": 25,
   "metadata": {},
   "outputs": [
    {
     "name": "stdout",
     "output_type": "stream",
     "text": [
      " Hi,\n",
      "How are you?\n",
      "Hope you are doing fine.\n",
      "Looking forward to see you soon! \n"
     ]
    }
   ],
   "source": [
    "# Using strings in multiple lines\n",
    "message= \"\"\" Hi,\n",
    "How are you?\n",
    "Hope you are doing fine.\n",
    "Looking forward to see you soon! \"\"\"\n",
    "print(message)"
   ]
  },
  {
   "cell_type": "code",
   "execution_count": 30,
   "metadata": {},
   "outputs": [
    {
     "name": "stdout",
     "output_type": "stream",
     "text": [
      "P\n",
      "n\n",
      "a\n"
     ]
    }
   ],
   "source": [
    "# using index in strings\n",
    "course= ('Practicing Python')\n",
    "print(course[0])\n",
    "print(course[-1])\n",
    "print(course[2])"
   ]
  },
  {
   "cell_type": "code",
   "execution_count": 32,
   "metadata": {},
   "outputs": [
    {
     "name": "stdout",
     "output_type": "stream",
     "text": [
      "Pra\n",
      "acti\n"
     ]
    }
   ],
   "source": [
    "# Extracting characters in python\n",
    "course= ('Practicing Python')\n",
    "print(course[0:3])\n",
    "print(course[2:6])"
   ]
  },
  {
   "cell_type": "code",
   "execution_count": 33,
   "metadata": {
    "collapsed": true,
    "jupyter": {
     "outputs_hidden": true,
     "source_hidden": true
    }
   },
   "outputs": [
    {
     "name": "stdout",
     "output_type": "stream",
     "text": [
      "msterda\n"
     ]
    }
   ],
   "source": [
    "# Exercise to extract character\n",
    "name= ('Amsterdam')\n",
    "print(name[1:-1])"
   ]
  },
  {
   "cell_type": "code",
   "execution_count": 35,
   "metadata": {
    "jupyter": {
     "source_hidden": true
    }
   },
   "outputs": [
    {
     "name": "stdout",
     "output_type": "stream",
     "text": [
      "Sonia Mishra is a coder\n"
     ]
    }
   ],
   "source": [
    "# Formatted String dynamically inserts value in a string\n",
    "first_name= 'Sonia'\n",
    "last_name= 'Mishra'\n",
    "message= f'{first_name} {last_name} is a coder'\n",
    "print(message)"
   ]
  },
  {
   "cell_type": "code",
   "execution_count": 36,
   "metadata": {
    "jupyter": {
     "source_hidden": true
    }
   },
   "outputs": [
    {
     "name": "stdout",
     "output_type": "stream",
     "text": [
      "19\n"
     ]
    }
   ],
   "source": [
    "# To calculate the length of charcacter we use the (len)\n",
    "# This is used when recieving input from a user\n",
    "name= 'Sonia Wadhwa Mishra'\n",
    "print(len(name))"
   ]
  },
  {
   "cell_type": "code",
   "execution_count": 40,
   "metadata": {
    "jupyter": {
     "source_hidden": true
    }
   },
   "outputs": [
    {
     "name": "stdout",
     "output_type": "stream",
     "text": [
      "PRACTICING PYTHON\n",
      "practicing python\n",
      "Practicing Python\n"
     ]
    }
   ],
   "source": [
    "# Functions specific to string or the dot operators are called methods, in contrast len and print are general purpose functions and dont exclusively belong to string\n",
    "course= 'Practicing Python'\n",
    "print(course.upper())\n",
    "print(course.lower())\n",
    "# original variable remains unchanged\n",
    "print(course)\n"
   ]
  },
  {
   "cell_type": "code",
   "execution_count": 47,
   "metadata": {},
   "outputs": [
    {
     "name": "stdout",
     "output_type": "stream",
     "text": [
      "2\n",
      "0\n",
      "Fundamentals of Python\n",
      "True\n",
      "False\n"
     ]
    }
   ],
   "source": [
    "# find function helps us to find the index of the character we are looking for\n",
    "course= 'Practicing Python'\n",
    "print(course.find('a'))\n",
    "#find methos is case sensitive\n",
    "print(course.find('P'))\n",
    "# replacing a sequence of characters\n",
    "print(course.replace('Practicing' , 'Fundamentals of'))\n",
    "# Checking if a character is available in a variable we use the in function\n",
    "print('Practicing' in course) # it gives the result in a boolean character\n",
    "print('practicing' in course) # it is case sensitive\n"
   ]
  },
  {
   "cell_type": "code",
   "execution_count": 48,
   "metadata": {},
   "outputs": [
    {
     "name": "stdout",
     "output_type": "stream",
     "text": [
      "1000\n"
     ]
    }
   ],
   "source": [
    "# Arithmetic Operators ( +, - , * , /, // (absolute value on dividing), **(Exponential))\n",
    "print(10 ** 3)"
   ]
  },
  {
   "cell_type": "code",
   "execution_count": 49,
   "metadata": {},
   "outputs": [
    {
     "name": "stdout",
     "output_type": "stream",
     "text": [
      "13\n"
     ]
    }
   ],
   "source": [
    "# Incrementing a number\n",
    "x = 10\n",
    "x = x+3\n",
    "x += 3 # Augmented assignment operator\n",
    "print(x)"
   ]
  },
  {
   "cell_type": "code",
   "execution_count": 50,
   "metadata": {
    "collapsed": true,
    "jupyter": {
     "outputs_hidden": true,
     "source_hidden": true
    }
   },
   "outputs": [
    {
     "name": "stdout",
     "output_type": "stream",
     "text": [
      "16\n"
     ]
    }
   ],
   "source": [
    "# operator precedence\n",
    "x = 10 + 3*2 # operator precedence is basically applying bodmas rule\n",
    "print(x)"
   ]
  },
  {
   "cell_type": "code",
   "execution_count": 52,
   "metadata": {
    "collapsed": true,
    "jupyter": {
     "outputs_hidden": true,
     "source_hidden": true
    }
   },
   "outputs": [
    {
     "name": "stdout",
     "output_type": "stream",
     "text": [
      "3\n",
      "2.9\n"
     ]
    }
   ],
   "source": [
    "# using round function\n",
    "x= 2.9\n",
    "print(round(x))\n",
    "# using absolute function always returns a positive\n",
    "print (abs(-2.9))"
   ]
  },
  {
   "cell_type": "code",
   "execution_count": 53,
   "metadata": {
    "jupyter": {
     "source_hidden": true
    }
   },
   "outputs": [
    {
     "name": "stdout",
     "output_type": "stream",
     "text": [
      "2\n"
     ]
    }
   ],
   "source": [
    "# using math module\n",
    "import math\n",
    "print(math.floor(2.9))"
   ]
  },
  {
   "cell_type": "code",
   "execution_count": 60,
   "metadata": {},
   "outputs": [
    {
     "name": "stdout",
     "output_type": "stream",
     "text": [
      "It's a pleasant day!\n",
      "Enjoy your day\n"
     ]
    }
   ],
   "source": [
    "# if statements in python\n",
    "is_hot= False\n",
    "is_cold= False\n",
    "if is_hot:\n",
    "    print(\"It's a hot day!\")\n",
    "elif is_cold:\n",
    "    print(\"It's a cold day!\")\n",
    "    print(\"Wear warm clothes!\")\n",
    "else:\n",
    "    print(\"It's a pleasant day!\")\n",
    "    \n",
    "print(\"Enjoy your day\")\n",
    "\n"
   ]
  },
  {
   "cell_type": "code",
   "execution_count": 63,
   "metadata": {},
   "outputs": [
    {
     "name": "stdout",
     "output_type": "stream",
     "text": [
      "Down payment: $100000.0\n"
     ]
    }
   ],
   "source": [
    "# Exercise defining the eligibility for downpayment for potential buyer\n",
    "price= 1000000\n",
    "has_good_credit = True\n",
    "\n",
    "if has_good_credit:\n",
    "    down_payment= 0.1 * price\n",
    "else:\n",
    "    down_payment= 0.2 * price\n",
    "print(f\"Down payment: ${down_payment}\")"
   ]
  },
  {
   "cell_type": "code",
   "execution_count": 75,
   "metadata": {},
   "outputs": [
    {
     "name": "stdout",
     "output_type": "stream",
     "text": [
      "Not Eligible for loan\n",
      "Eligible for Loan\n",
      "Not Eligible for loan\n"
     ]
    }
   ],
   "source": [
    "# Logical operators: Use of AND, Or\n",
    "# Condition is if has high income and good credit then eligible for loan: With and both conditions should be true\n",
    "\n",
    "has_high_income= False\n",
    "has_good_credit= True\n",
    "    \n",
    "if has_high_income and has_good_credit:\n",
    "    print(\"Eligible for Loan\")\n",
    "else:\n",
    "    print(\"Not Eligible for loan\")\n",
    "# if at least one of the conditions is true we use OR\n",
    "if has_high_income or has_good_credit:\n",
    "    print(\"Eligible for Loan\")\n",
    "else:\n",
    "    print(\"Not Eligible for loan\")\n",
    "\n",
    "# use of the not operator\n",
    "# Condition \n",
    "has_high_income= True\n",
    "has_criminal_record= True\n",
    "\n",
    "if has_high_income and not has_criminal_record:\n",
    "    print('Eligible for loan')\n",
    "else:\n",
    "    print('Not Eligible for loan')\n",
    "    \n"
   ]
  },
  {
   "cell_type": "code",
   "execution_count": 78,
   "metadata": {},
   "outputs": [
    {
     "name": "stdin",
     "output_type": "stream",
     "text": [
      "What is the temperature? 40\n"
     ]
    },
    {
     "name": "stdout",
     "output_type": "stream",
     "text": [
      "It's a hot day!\n"
     ]
    }
   ],
   "source": [
    "# comparisor operators(>,>=,<,<=,==, !=[not equal])\n",
    "temperature= int(input('What is the temperature?'))\n",
    "if temperature> 30:\n",
    "    print(\"It's a hot day!\")\n",
    "else:\n",
    "    print (\" it's a pleasant day!\")"
   ]
  },
  {
   "cell_type": "code",
   "execution_count": 4,
   "metadata": {
    "jupyter": {
     "source_hidden": true
    }
   },
   "outputs": [
    {
     "name": "stdout",
     "output_type": "stream",
     "text": [
      "6\n",
      "Name looks good!\n"
     ]
    }
   ],
   "source": [
    "# Exercise\n",
    "name= 'Sairah'\n",
    "print(len(name))\n",
    "\n",
    "if len(name)< 3:\n",
    "    print('Name must be atleast 3 characters long.')\n",
    "elif len(name)> 50:\n",
    "    print('Name can be 50 characters long.')\n",
    "else:\n",
    "    print('Name looks good!')"
   ]
  },
  {
   "cell_type": "code",
   "execution_count": 9,
   "metadata": {},
   "outputs": [
    {
     "name": "stdout",
     "output_type": "stream",
     "text": [
      "1\n",
      "2\n",
      "3\n",
      "4\n",
      "5\n",
      "Done\n"
     ]
    }
   ],
   "source": [
    "# while loops\n",
    "i= 1\n",
    "while i<= 5:\n",
    "    print(i)\n",
    "    i=i+1\n",
    "print('Done')\n"
   ]
  },
  {
   "cell_type": "code",
   "execution_count": null,
   "metadata": {},
   "outputs": [],
   "source": []
  }
 ],
 "metadata": {
  "kernelspec": {
   "display_name": "Python 3",
   "language": "python",
   "name": "python3"
  },
  "language_info": {
   "codemirror_mode": {
    "name": "ipython",
    "version": 3
   },
   "file_extension": ".py",
   "mimetype": "text/x-python",
   "name": "python",
   "nbconvert_exporter": "python",
   "pygments_lexer": "ipython3",
   "version": "3.8.5"
  }
 },
 "nbformat": 4,
 "nbformat_minor": 4
}
