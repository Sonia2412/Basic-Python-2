{
 "cells": [
  {
   "cell_type": "code",
   "execution_count": 8,
   "metadata": {},
   "outputs": [
    {
     "name": "stdout",
     "output_type": "stream",
     "text": [
      "Welcome\n"
     ]
    },
    {
     "name": "stdin",
     "output_type": "stream",
     "text": [
      "Select first number.... 20\n",
      "Select second number.... 10\n",
      "A=Add\n",
      "                 B=Multiply\n",
      "                 C=Substract\n",
      "                 D=Divide\n",
      "                  B\n"
     ]
    },
    {
     "name": "stdout",
     "output_type": "stream",
     "text": [
      "200\n"
     ]
    }
   ],
   "source": [
    "# Programme asking from two numbers from a user. \n",
    "# Offer a menu to the user giving them a choice of operator\n",
    "\n",
    "print(\"Welcome\")\n",
    "user_input_1= int(input(\"Select first number....\"))\n",
    "user_input_2= int(input(\"Select second number....\"))\n",
    "choice= input(\"\"\"A=Add\n",
    "                 B=Multiply\n",
    "                 C=Substract\n",
    "                 D=Divide\n",
    "                 \"\"\")\n",
    "if choice==\"A\":\n",
    "    print(user_input_1 + user_input_2)\n",
    "elif choice==\"B\":\n",
    "    print(user_input_1 * user_input_2)\n",
    "elif choice==\"C\":\n",
    "    print(user_input_1 - user_input_2)\n",
    "elif choice==\"D\":\n",
    "    print(user_input_1 / user_inpur_2)\n",
    "else:\n",
    "    print(\"Quit\")\n"
   ]
  },
  {
   "cell_type": "code",
   "execution_count": null,
   "metadata": {},
   "outputs": [],
   "source": []
  }
 ],
 "metadata": {
  "kernelspec": {
   "display_name": "Python 3",
   "language": "python",
   "name": "python3"
  },
  "language_info": {
   "codemirror_mode": {
    "name": "ipython",
    "version": 3
   },
   "file_extension": ".py",
   "mimetype": "text/x-python",
   "name": "python",
   "nbconvert_exporter": "python",
   "pygments_lexer": "ipython3",
   "version": "3.8.5"
  }
 },
 "nbformat": 4,
 "nbformat_minor": 4
}
