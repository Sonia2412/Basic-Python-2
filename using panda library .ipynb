{
 "cells": [
  {
   "cell_type": "code",
   "execution_count": 1,
   "metadata": {},
   "outputs": [],
   "source": [
    "import pandas as pd"
   ]
  },
  {
   "cell_type": "code",
   "execution_count": 3,
   "metadata": {},
   "outputs": [
    {
     "name": "stdout",
     "output_type": "stream",
     "text": [
      "    Destination  Score  Stars  No. of hotels Most visited places\n",
      "0        France      9      3             11               Paris\n",
      "1         Italy      8      4             12                Rome\n",
      "2         Spain      9      4             15           Barcelona\n",
      "3    Netherland      7      3             10           Amsterdam\n",
      "4     Australia      9      5             29           Melbourne\n",
      "5       Austria      2      1              5              Vienna\n",
      "6   New Zealand      6      2              6          Queenstown\n",
      "7           USA      9      5             35            New York\n",
      "8     Singapore      7      4             25             Sentosa\n",
      "9      Malaysia      1      2              4        Kuala Lumpur\n",
      "10        Egypt      3      2              3               Cairo\n",
      "11          UAE      8      4             19               Dubai\n",
      "12   Swtzerland      9      4             20              Zurich\n",
      "13        India      7      3             18           New Delhi\n",
      "14      Denmark      1      2              2          Copenhagen\n"
     ]
    }
   ],
   "source": [
    "dt=pd.read_csv('dt.csv')\n",
    "print(dt)"
   ]
  },
  {
   "cell_type": "code",
   "execution_count": 4,
   "metadata": {},
   "outputs": [
    {
     "data": {
      "text/plain": [
       "(15, 5)"
      ]
     },
     "execution_count": 4,
     "metadata": {},
     "output_type": "execute_result"
    }
   ],
   "source": [
    "# No. of Rows and Columns\n",
    "dt.shape"
   ]
  },
  {
   "cell_type": "code",
   "execution_count": 7,
   "metadata": {},
   "outputs": [
    {
     "name": "stdout",
     "output_type": "stream",
     "text": [
      "   Destination  Score  Stars  No. of hotels Most visited places\n",
      "2        Spain      9      4             15           Barcelona\n",
      "3   Netherland      7      3             10           Amsterdam\n",
      "4    Australia      9      5             29           Melbourne\n",
      "5      Austria      2      1              5              Vienna\n",
      "6  New Zealand      6      2              6          Queenstown\n",
      "7          USA      9      5             35            New York\n"
     ]
    }
   ],
   "source": [
    "# Printing Row 3 to 8\n",
    "print(dt.iloc[2:8])"
   ]
  },
  {
   "cell_type": "code",
   "execution_count": 8,
   "metadata": {},
   "outputs": [
    {
     "data": {
      "text/plain": [
       "14.266666666666667"
      ]
     },
     "execution_count": 8,
     "metadata": {},
     "output_type": "execute_result"
    }
   ],
   "source": [
    "# Mean of the Number of all inclusive hotels\n",
    "dt['No. of hotels'].mean()"
   ]
  },
  {
   "cell_type": "code",
   "execution_count": 10,
   "metadata": {},
   "outputs": [
    {
     "data": {
      "text/plain": [
       "9"
      ]
     },
     "execution_count": 10,
     "metadata": {},
     "output_type": "execute_result"
    }
   ],
   "source": [
    "# Indexed Row with minimum Score\n",
    "dt['Score'].idxmin()"
   ]
  },
  {
   "cell_type": "code",
   "execution_count": 11,
   "metadata": {},
   "outputs": [
    {
     "data": {
      "text/plain": [
       "0"
      ]
     },
     "execution_count": 11,
     "metadata": {},
     "output_type": "execute_result"
    }
   ],
   "source": [
    "# Indexed Row with maximum score\n",
    "dt['Score'].idxmax()"
   ]
  },
  {
   "cell_type": "code",
   "execution_count": 14,
   "metadata": {},
   "outputs": [
    {
     "name": "stdout",
     "output_type": "stream",
     "text": [
      "0      True\n",
      "1      True\n",
      "2      True\n",
      "3      True\n",
      "4      True\n",
      "5     False\n",
      "6     False\n",
      "7      True\n",
      "8      True\n",
      "9     False\n",
      "10    False\n",
      "11     True\n",
      "12     True\n",
      "13     True\n",
      "14    False\n",
      "Name: No. of hotels, dtype: bool\n"
     ]
    }
   ],
   "source": [
    "# Best places to visit in terms of number of all inclusive hotels\n",
    "BestPlaces= dt['No. of hotels'] > 9\n",
    "print(BestPlaces)"
   ]
  },
  {
   "cell_type": "code",
   "execution_count": 21,
   "metadata": {},
   "outputs": [
    {
     "data": {
      "text/html": [
       "<div>\n",
       "<style scoped>\n",
       "    .dataframe tbody tr th:only-of-type {\n",
       "        vertical-align: middle;\n",
       "    }\n",
       "\n",
       "    .dataframe tbody tr th {\n",
       "        vertical-align: top;\n",
       "    }\n",
       "\n",
       "    .dataframe thead th {\n",
       "        text-align: right;\n",
       "    }\n",
       "</style>\n",
       "<table border=\"1\" class=\"dataframe\">\n",
       "  <thead>\n",
       "    <tr style=\"text-align: right;\">\n",
       "      <th></th>\n",
       "      <th>Destination</th>\n",
       "      <th>Score</th>\n",
       "      <th>Stars</th>\n",
       "      <th>No. of hotels</th>\n",
       "      <th>Most visited places</th>\n",
       "    </tr>\n",
       "  </thead>\n",
       "  <tbody>\n",
       "    <tr>\n",
       "      <th>0</th>\n",
       "      <td>France</td>\n",
       "      <td>9</td>\n",
       "      <td>3</td>\n",
       "      <td>11</td>\n",
       "      <td>Paris</td>\n",
       "    </tr>\n",
       "    <tr>\n",
       "      <th>1</th>\n",
       "      <td>Italy</td>\n",
       "      <td>8</td>\n",
       "      <td>4</td>\n",
       "      <td>12</td>\n",
       "      <td>Rome</td>\n",
       "    </tr>\n",
       "    <tr>\n",
       "      <th>2</th>\n",
       "      <td>Spain</td>\n",
       "      <td>9</td>\n",
       "      <td>4</td>\n",
       "      <td>15</td>\n",
       "      <td>Barcelona</td>\n",
       "    </tr>\n",
       "    <tr>\n",
       "      <th>3</th>\n",
       "      <td>Netherland</td>\n",
       "      <td>7</td>\n",
       "      <td>3</td>\n",
       "      <td>10</td>\n",
       "      <td>Amsterdam</td>\n",
       "    </tr>\n",
       "    <tr>\n",
       "      <th>4</th>\n",
       "      <td>Australia</td>\n",
       "      <td>9</td>\n",
       "      <td>5</td>\n",
       "      <td>29</td>\n",
       "      <td>Melbourne</td>\n",
       "    </tr>\n",
       "    <tr>\n",
       "      <th>7</th>\n",
       "      <td>USA</td>\n",
       "      <td>9</td>\n",
       "      <td>5</td>\n",
       "      <td>35</td>\n",
       "      <td>New York</td>\n",
       "    </tr>\n",
       "    <tr>\n",
       "      <th>8</th>\n",
       "      <td>Singapore</td>\n",
       "      <td>7</td>\n",
       "      <td>4</td>\n",
       "      <td>25</td>\n",
       "      <td>Sentosa</td>\n",
       "    </tr>\n",
       "    <tr>\n",
       "      <th>11</th>\n",
       "      <td>UAE</td>\n",
       "      <td>8</td>\n",
       "      <td>4</td>\n",
       "      <td>19</td>\n",
       "      <td>Dubai</td>\n",
       "    </tr>\n",
       "    <tr>\n",
       "      <th>12</th>\n",
       "      <td>Swtzerland</td>\n",
       "      <td>9</td>\n",
       "      <td>4</td>\n",
       "      <td>20</td>\n",
       "      <td>Zurich</td>\n",
       "    </tr>\n",
       "    <tr>\n",
       "      <th>13</th>\n",
       "      <td>India</td>\n",
       "      <td>7</td>\n",
       "      <td>3</td>\n",
       "      <td>18</td>\n",
       "      <td>New Delhi</td>\n",
       "    </tr>\n",
       "  </tbody>\n",
       "</table>\n",
       "</div>"
      ],
      "text/plain": [
       "   Destination  Score  Stars  No. of hotels Most visited places\n",
       "0       France      9      3             11               Paris\n",
       "1        Italy      8      4             12                Rome\n",
       "2        Spain      9      4             15           Barcelona\n",
       "3   Netherland      7      3             10           Amsterdam\n",
       "4    Australia      9      5             29           Melbourne\n",
       "7          USA      9      5             35            New York\n",
       "8    Singapore      7      4             25             Sentosa\n",
       "11         UAE      8      4             19               Dubai\n",
       "12  Swtzerland      9      4             20              Zurich\n",
       "13       India      7      3             18           New Delhi"
      ]
     },
     "execution_count": 21,
     "metadata": {},
     "output_type": "execute_result"
    }
   ],
   "source": [
    "# Best places to visit in terms of all inclusive hotels\n",
    "dt[BestPlaces]"
   ]
  },
  {
   "cell_type": "code",
   "execution_count": 22,
   "metadata": {},
   "outputs": [
    {
     "name": "stdout",
     "output_type": "stream",
     "text": [
      "0      True\n",
      "1     False\n",
      "2      True\n",
      "3     False\n",
      "4      True\n",
      "5     False\n",
      "6     False\n",
      "7      True\n",
      "8     False\n",
      "9     False\n",
      "10    False\n",
      "11    False\n",
      "12     True\n",
      "13    False\n",
      "14    False\n",
      "Name: Score, dtype: bool\n"
     ]
    }
   ],
   "source": [
    "HighScore=dt['Score'] > 8\n",
    "print(HighScore)"
   ]
  },
  {
   "cell_type": "code",
   "execution_count": 23,
   "metadata": {},
   "outputs": [
    {
     "data": {
      "text/html": [
       "<div>\n",
       "<style scoped>\n",
       "    .dataframe tbody tr th:only-of-type {\n",
       "        vertical-align: middle;\n",
       "    }\n",
       "\n",
       "    .dataframe tbody tr th {\n",
       "        vertical-align: top;\n",
       "    }\n",
       "\n",
       "    .dataframe thead th {\n",
       "        text-align: right;\n",
       "    }\n",
       "</style>\n",
       "<table border=\"1\" class=\"dataframe\">\n",
       "  <thead>\n",
       "    <tr style=\"text-align: right;\">\n",
       "      <th></th>\n",
       "      <th>Destination</th>\n",
       "      <th>Score</th>\n",
       "      <th>Stars</th>\n",
       "      <th>No. of hotels</th>\n",
       "      <th>Most visited places</th>\n",
       "    </tr>\n",
       "  </thead>\n",
       "  <tbody>\n",
       "    <tr>\n",
       "      <th>0</th>\n",
       "      <td>France</td>\n",
       "      <td>9</td>\n",
       "      <td>3</td>\n",
       "      <td>11</td>\n",
       "      <td>Paris</td>\n",
       "    </tr>\n",
       "    <tr>\n",
       "      <th>2</th>\n",
       "      <td>Spain</td>\n",
       "      <td>9</td>\n",
       "      <td>4</td>\n",
       "      <td>15</td>\n",
       "      <td>Barcelona</td>\n",
       "    </tr>\n",
       "    <tr>\n",
       "      <th>4</th>\n",
       "      <td>Australia</td>\n",
       "      <td>9</td>\n",
       "      <td>5</td>\n",
       "      <td>29</td>\n",
       "      <td>Melbourne</td>\n",
       "    </tr>\n",
       "    <tr>\n",
       "      <th>7</th>\n",
       "      <td>USA</td>\n",
       "      <td>9</td>\n",
       "      <td>5</td>\n",
       "      <td>35</td>\n",
       "      <td>New York</td>\n",
       "    </tr>\n",
       "    <tr>\n",
       "      <th>12</th>\n",
       "      <td>Swtzerland</td>\n",
       "      <td>9</td>\n",
       "      <td>4</td>\n",
       "      <td>20</td>\n",
       "      <td>Zurich</td>\n",
       "    </tr>\n",
       "  </tbody>\n",
       "</table>\n",
       "</div>"
      ],
      "text/plain": [
       "   Destination  Score  Stars  No. of hotels Most visited places\n",
       "0       France      9      3             11               Paris\n",
       "2        Spain      9      4             15           Barcelona\n",
       "4    Australia      9      5             29           Melbourne\n",
       "7          USA      9      5             35            New York\n",
       "12  Swtzerland      9      4             20              Zurich"
      ]
     },
     "execution_count": 23,
     "metadata": {},
     "output_type": "execute_result"
    }
   ],
   "source": [
    "# Top scored  Destinations\n",
    "dt[HighScore]"
   ]
  },
  {
   "cell_type": "code",
   "execution_count": 24,
   "metadata": {},
   "outputs": [
    {
     "name": "stdout",
     "output_type": "stream",
     "text": [
      "0     False\n",
      "1     False\n",
      "2     False\n",
      "3     False\n",
      "4     False\n",
      "5     False\n",
      "6     False\n",
      "7     False\n",
      "8     False\n",
      "9      True\n",
      "10    False\n",
      "11    False\n",
      "12    False\n",
      "13    False\n",
      "14     True\n",
      "Name: Score, dtype: bool\n"
     ]
    }
   ],
   "source": [
    "# Lowest Scored Destinations\n",
    "LowScore=dt['Score'] < 2\n",
    "print(LowScore)"
   ]
  },
  {
   "cell_type": "code",
   "execution_count": 25,
   "metadata": {},
   "outputs": [
    {
     "data": {
      "text/html": [
       "<div>\n",
       "<style scoped>\n",
       "    .dataframe tbody tr th:only-of-type {\n",
       "        vertical-align: middle;\n",
       "    }\n",
       "\n",
       "    .dataframe tbody tr th {\n",
       "        vertical-align: top;\n",
       "    }\n",
       "\n",
       "    .dataframe thead th {\n",
       "        text-align: right;\n",
       "    }\n",
       "</style>\n",
       "<table border=\"1\" class=\"dataframe\">\n",
       "  <thead>\n",
       "    <tr style=\"text-align: right;\">\n",
       "      <th></th>\n",
       "      <th>Destination</th>\n",
       "      <th>Score</th>\n",
       "      <th>Stars</th>\n",
       "      <th>No. of hotels</th>\n",
       "      <th>Most visited places</th>\n",
       "    </tr>\n",
       "  </thead>\n",
       "  <tbody>\n",
       "    <tr>\n",
       "      <th>9</th>\n",
       "      <td>Malaysia</td>\n",
       "      <td>1</td>\n",
       "      <td>2</td>\n",
       "      <td>4</td>\n",
       "      <td>Kuala Lumpur</td>\n",
       "    </tr>\n",
       "    <tr>\n",
       "      <th>14</th>\n",
       "      <td>Denmark</td>\n",
       "      <td>1</td>\n",
       "      <td>2</td>\n",
       "      <td>2</td>\n",
       "      <td>Copenhagen</td>\n",
       "    </tr>\n",
       "  </tbody>\n",
       "</table>\n",
       "</div>"
      ],
      "text/plain": [
       "   Destination  Score  Stars  No. of hotels Most visited places\n",
       "9     Malaysia      1      2              4        Kuala Lumpur\n",
       "14     Denmark      1      2              2          Copenhagen"
      ]
     },
     "execution_count": 25,
     "metadata": {},
     "output_type": "execute_result"
    }
   ],
   "source": [
    "# Lowest Scored Destinations\n",
    "dt[LowScore]"
   ]
  },
  {
   "cell_type": "code",
   "execution_count": 31,
   "metadata": {},
   "outputs": [
    {
     "name": "stdout",
     "output_type": "stream",
     "text": [
      "                  Score     Stars  No. of hotels\n",
      "Score          1.000000  0.837140       0.738715\n",
      "Stars          0.837140  1.000000       0.893754\n",
      "No. of hotels  0.738715  0.893754       1.000000\n"
     ]
    }
   ],
   "source": [
    "# Corelation Matrix\n",
    "Relation=dt.corr()\n",
    "print(Relation)"
   ]
  },
  {
   "cell_type": "code",
   "execution_count": 33,
   "metadata": {},
   "outputs": [
    {
     "data": {
      "text/plain": [
       "<AxesSubplot:xlabel='No. of hotels', ylabel='Score'>"
      ]
     },
     "execution_count": 33,
     "metadata": {},
     "output_type": "execute_result"
    },
    {
     "data": {
      "image/png": "[encoded data removed]",
      "text/plain": [
       "<Figure size 432x288 with 1 Axes>"
      ]
     },
     "metadata": {
      "needs_background": "light"
     },
     "output_type": "display_data"
    }
   ],
   "source": [
    "# Scatterplot displaying correlation between No. of hotels and Destination Score\n",
    "dt.plot.scatter(x='No. of hotels', y='Score')"
   ]
  },
  {
   "cell_type": "code",
   "execution_count": null,
   "metadata": {},
   "outputs": [],
   "source": []
  }
 ],
 "metadata": {
  "kernelspec": {
   "display_name": "Python 3",
   "language": "python",
   "name": "python3"
  },
  "language_info": {
   "codemirror_mode": {
    "name": "ipython",
    "version": 3
   },
   "file_extension": ".py",
   "mimetype": "text/x-python",
   "name": "python",
   "nbconvert_exporter": "python",
   "pygments_lexer": "ipython3",
   "version": "3.8.5"
  }
 },
 "nbformat": 4,
 "nbformat_minor": 4
}
