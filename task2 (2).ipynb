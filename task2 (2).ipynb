{
 "cells": [
  {
   "cell_type": "code",
   "execution_count": 1,
   "metadata": {},
   "outputs": [
    {
     "name": "stdin",
     "output_type": "stream",
     "text": [
      "What is your favourite number between 1-100?  15\n"
     ]
    },
    {
     "name": "stdout",
     "output_type": "stream",
     "text": [
      "How does moses brews tea: he brews\n",
      "Have a nice day\n"
     ]
    }
   ],
   "source": [
    "# Programming asking user for their favourite number between one and 100.\n",
    "# Telling a joke based on the number.\n",
    "# use a minimum of 3 jokes.\n",
    "\n",
    "Fav_number = input(\"What is your favourite number between 1-100? \")\n",
    "is_1_to_20 = True\n",
    "is_21_to_50 = False\n",
    "is_51_to_100 = False\n",
    "\n",
    "if is_1_to_20:\n",
    "    print(\"How does moses brews tea: he brews\")\n",
    "\n",
    "elif is_21_to_50:\n",
    "    print(\"What kind of exercise do lazy people do: diddly-squats\")\n",
    "    \n",
    "elif is_51_to_100:\n",
    "    print(\"What do you call a parade of rabbits hopping backwards?: A receding hare-line\")\n",
    "\n",
    "print(\"Have a nice day\")\n",
    "    \n"
   ]
  },
  {
   "cell_type": "code",
   "execution_count": null,
   "metadata": {},
   "outputs": [],
   "source": []
  }
 ],
 "metadata": {
  "kernelspec": {
   "display_name": "Python 3",
   "language": "python",
   "name": "python3"
  },
  "language_info": {
   "codemirror_mode": {
    "name": "ipython",
    "version": 3
   },
   "file_extension": ".py",
   "mimetype": "text/x-python",
   "name": "python",
   "nbconvert_exporter": "python",
   "pygments_lexer": "ipython3",
   "version": "3.8.5"
  }
 },
 "nbformat": 4,
 "nbformat_minor": 4
}
