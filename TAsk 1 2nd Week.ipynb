{
 "cells": [
  {
   "cell_type": "code",
   "execution_count": 17,
   "metadata": {},
   "outputs": [
    {
     "name": "stdout",
     "output_type": "stream",
     "text": [
      "KLM flight to Amsterdam !\n"
     ]
    },
    {
     "name": "stdin",
     "output_type": "stream",
     "text": [
      "Seats available (Aisle or Window)?  Window\n"
     ]
    },
    {
     "name": "stdout",
     "output_type": "stream",
     "text": [
      "Purchase ticket and make the payment.\n"
     ]
    }
   ],
   "source": [
    "# KLM flight to Amsterdam\n",
    "Airline_ticket = print(\"KLM flight to Amsterdam !\")\n",
    "choice_1= input(\"Seats available (Aisle or Window)? \")\n",
    "\n",
    "if choice_1==\"Window\":\n",
    "    print(\"Purchase ticket and make the payment.\")\n",
    "elif choice_1==\"Aisle\":\n",
    "    print(\"Cancel the Purchase.\")\n",
    "else:\n",
    "    print(\"Have a nice day!\")\n",
    "    \n",
    "\n",
    "\n",
    "    "
   ]
  },
  {
   "cell_type": "code",
   "execution_count": null,
   "metadata": {},
   "outputs": [],
   "source": []
  }
 ],
 "metadata": {
  "kernelspec": {
   "display_name": "Python 3",
   "language": "python",
   "name": "python3"
  },
  "language_info": {
   "codemirror_mode": {
    "name": "ipython",
    "version": 3
   },
   "file_extension": ".py",
   "mimetype": "text/x-python",
   "name": "python",
   "nbconvert_exporter": "python",
   "pygments_lexer": "ipython3",
   "version": "3.8.5"
  }
 },
 "nbformat": 4,
 "nbformat_minor": 4
}
