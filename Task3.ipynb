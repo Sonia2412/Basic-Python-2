{
 "cells": [
  {
   "cell_type": "code",
   "execution_count": null,
   "metadata": {},
   "outputs": [],
   "source": []
  },
  {
   "cell_type": "code",
   "execution_count": 1,
   "metadata": {},
   "outputs": [
    {
     "name": "stdin",
     "output_type": "stream",
     "text": [
      "What is your name?  Sonia\n",
      "What is your favourite starter?  Skewers\n",
      "What is your favourite main course?  Curry\n",
      "What is your favourite dessert?  Pie\n",
      "What is your favourite drink?  Juice\n"
     ]
    },
    {
     "name": "stdout",
     "output_type": "stream",
     "text": [
      "Sonialikes Skewers Curry Pie Juice\n"
     ]
    }
   ],
   "source": [
    "# programme to allow user to select favourite starter, main course, dessert and drink.\n",
    "name = input(\"What is your name? \")\n",
    "fav_starter = input(\"What is your favourite starter? \")\n",
    "fav_main_course = input(\"What is your favourite main course? \")\n",
    "fav_dessert = input(\"What is your favourite dessert? \")\n",
    "fav_drink = input(\"What is your favourite drink? \")\n",
    "print(name + \"likes\" , fav_starter , fav_main_course , fav_dessert , fav_drink)"
   ]
  },
  {
   "cell_type": "code",
   "execution_count": null,
   "metadata": {},
   "outputs": [],
   "source": []
  }
 ],
 "metadata": {
  "kernelspec": {
   "display_name": "Python 3",
   "language": "python",
   "name": "python3"
  },
  "language_info": {
   "codemirror_mode": {
    "name": "ipython",
    "version": 3
   },
   "file_extension": ".py",
   "mimetype": "text/x-python",
   "name": "python",
   "nbconvert_exporter": "python",
   "pygments_lexer": "ipython3",
   "version": "3.8.5"
  }
 },
 "nbformat": 4,
 "nbformat_minor": 4
}
